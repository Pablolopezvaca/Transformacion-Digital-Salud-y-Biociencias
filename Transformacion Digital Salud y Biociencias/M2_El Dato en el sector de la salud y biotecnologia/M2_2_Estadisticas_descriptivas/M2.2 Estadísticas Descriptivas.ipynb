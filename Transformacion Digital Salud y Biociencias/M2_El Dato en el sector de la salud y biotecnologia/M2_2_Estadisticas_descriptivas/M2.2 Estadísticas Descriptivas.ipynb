{
 "cells": [
  {
   "cell_type": "markdown",
   "id": "378a8c35",
   "metadata": {},
   "source": [
    "# Conceptos Básicos de Estadística Descriptiva\n",
    "\n"
   ]
  },
  {
   "cell_type": "markdown",
   "id": "c6fa711b",
   "metadata": {},
   "source": [
    "En estadística descriptiva se utilizan distintas medidas para intentar describir las propiedades de nuestros datos, algunos de los conceptos básicos, son:"
   ]
  },
  {
   "cell_type": "markdown",
   "id": "1e2c8dab",
   "metadata": {},
   "source": [
    "Primero, creamos un conjunto de datos ficticio para ilustrar los conceptos de estadística descriptiva. "
   ]
  },
  {
   "cell_type": "code",
   "execution_count": 1,
   "id": "406f5950",
   "metadata": {},
   "outputs": [],
   "source": [
    "import numpy as np\n",
    "import pandas as pd\n",
    "\n",
    "# Crear un conjunto de datos de ejemplo\n",
    "datos = [10, 20, 20, 40, 50, 50, 50, 60, 70, 80]\n",
    "\n",
    "# Convertir los datos a un DataFrame de pandas para facilidad de uso\n",
    "df = pd.DataFrame(datos, columns=['Valor'])\n"
   ]
  },
  {
   "cell_type": "markdown",
   "id": "27ce6c89",
   "metadata": {},
   "source": [
    "Aquí, datos es una lista de valores que utilizaremos para nuestras operaciones estadísticas. Convertimos esta lista en un DataFrame de pandas para facilitar su manipulación y análisis."
   ]
  },
  {
   "cell_type": "markdown",
   "id": "2d4dbd96",
   "metadata": {},
   "source": [
    "## 1. Media aritmética\n",
    "\n",
    "La media aritmética es el promedio de un conjunto de valores. Se calcula sumando todos los valores y dividiéndolos por el número de valores."
   ]
  },
  {
   "cell_type": "code",
   "execution_count": 2,
   "id": "7ae7ed52",
   "metadata": {},
   "outputs": [
    {
     "name": "stdout",
     "output_type": "stream",
     "text": [
      "Media aritmética: 45.0\n"
     ]
    }
   ],
   "source": [
    "media = np.mean(datos)\n",
    "print(f\"Media aritmética: {media}\")\n"
   ]
  },
  {
   "cell_type": "markdown",
   "id": "7be72ed6",
   "metadata": {},
   "source": [
    "### Explicación: \n",
    "\n",
    "Sumamos todos los valores del conjunto de datos y los dividimos por el número de valores. La media nos da una idea del valor promedio del conjunto de datos."
   ]
  },
  {
   "cell_type": "markdown",
   "id": "3cc2c74b",
   "metadata": {},
   "source": [
    "## 2. Desviación respecto a la media\n",
    "\n",
    "La desviación respecto a la media mide cuánto se desvían los valores individuales de la media.\n"
   ]
  },
  {
   "cell_type": "code",
   "execution_count": 3,
   "id": "5ca4e246",
   "metadata": {},
   "outputs": [
    {
     "name": "stdout",
     "output_type": "stream",
     "text": [
      "Desviación respecto a la media:\n",
      "0   -35.0\n",
      "1   -25.0\n",
      "2   -25.0\n",
      "3    -5.0\n",
      "4     5.0\n",
      "5     5.0\n",
      "6     5.0\n",
      "7    15.0\n",
      "8    25.0\n",
      "9    35.0\n",
      "Name: Valor, dtype: float64\n"
     ]
    }
   ],
   "source": [
    "desviacion_respecto_media = df['Valor'] - media\n",
    "print(f\"Desviación respecto a la media:\\n{desviacion_respecto_media}\")\n"
   ]
  },
  {
   "cell_type": "markdown",
   "id": "50aa9c42",
   "metadata": {},
   "source": [
    "### Explicación: \n",
    "\n",
    "Cada valor del conjunto de datos se resta de la media para obtener su desviación respecto a la media. Esto muestra cuánto se desvía cada valor del promedio."
   ]
  },
  {
   "cell_type": "markdown",
   "id": "181421de",
   "metadata": {},
   "source": [
    "## 3. Mediana\n",
    "\n",
    "La mediana es el valor central de un conjunto de datos ordenados. Si hay un número par de valores, es el promedio de los dos valores centrales."
   ]
  },
  {
   "cell_type": "code",
   "execution_count": 4,
   "id": "13a71e0d",
   "metadata": {},
   "outputs": [
    {
     "name": "stdout",
     "output_type": "stream",
     "text": [
      "Mediana: 50.0\n"
     ]
    }
   ],
   "source": [
    "mediana = np.median(datos)\n",
    "print(f\"Mediana: {mediana}\")\n"
   ]
  },
  {
   "cell_type": "markdown",
   "id": "b6ce83bc",
   "metadata": {},
   "source": [
    "### Explicación: \n",
    "\n",
    "Ordenamos los valores y tomamos el valor central. Si hay un número par de valores, la mediana es el promedio de los dos valores centrales."
   ]
  },
  {
   "cell_type": "markdown",
   "id": "35687127",
   "metadata": {},
   "source": [
    "## 4. Moda\n",
    "\n",
    "La moda es el valor que ocurre con mayor frecuencia en un conjunto de datos."
   ]
  },
  {
   "cell_type": "code",
   "execution_count": 5,
   "id": "f18dc431",
   "metadata": {},
   "outputs": [
    {
     "name": "stdout",
     "output_type": "stream",
     "text": [
      "Moda: 50\n"
     ]
    }
   ],
   "source": [
    "moda = df['Valor'].mode()[0]\n",
    "print(f\"Moda: {moda}\")\n"
   ]
  },
  {
   "cell_type": "markdown",
   "id": "0934019a",
   "metadata": {},
   "source": [
    "### Explicación: \n",
    "\n",
    "Encontramos el valor que aparece más veces en el conjunto de datos."
   ]
  },
  {
   "cell_type": "markdown",
   "id": "4cbd20f0",
   "metadata": {},
   "source": [
    "## 5. Varianza\n",
    "\n",
    "La varianza mide la dispersión de los datos respecto a la media. Se calcula como el promedio de las desviaciones cuadradas de cada valor respecto a la media."
   ]
  },
  {
   "cell_type": "code",
   "execution_count": 6,
   "id": "f4271feb",
   "metadata": {},
   "outputs": [
    {
     "name": "stdout",
     "output_type": "stream",
     "text": [
      "Varianza: 516.6666666666666\n"
     ]
    }
   ],
   "source": [
    "varianza = np.var(datos, ddof=1)\n",
    "print(f\"Varianza: {varianza}\")\n"
   ]
  },
  {
   "cell_type": "markdown",
   "id": "47c934e3",
   "metadata": {},
   "source": [
    "### Explicación: \n",
    "\n",
    "Calculamos el promedio de las desviaciones cuadradas de cada valor respecto a la media. Esto nos da una idea de cuánto varían los valores en el conjunto de datos."
   ]
  },
  {
   "cell_type": "markdown",
   "id": "a3be0162",
   "metadata": {},
   "source": [
    "## 6. Covarianza\n",
    "\n",
    "La covarianza mide la relación entre dos variables, indicando si tienden a aumentar o disminuir juntas. Necesitamos dos conjuntos de datos para calcular la covarianza."
   ]
  },
  {
   "cell_type": "code",
   "execution_count": 7,
   "id": "478d9094",
   "metadata": {},
   "outputs": [
    {
     "name": "stdout",
     "output_type": "stream",
     "text": [
      "Covarianza entre datos y datos_y: 508.88888888888886\n"
     ]
    }
   ],
   "source": [
    "datos_y = [15, 21, 20, 45, 55, 53, 52, 63, 71, 81]\n",
    "covarianza = np.cov(datos, datos_y)[0, 1]\n",
    "print(f\"Covarianza entre datos y datos_y: {covarianza}\")\n"
   ]
  },
  {
   "cell_type": "markdown",
   "id": "804d4008",
   "metadata": {},
   "source": [
    "Esto muestra que hay una relación positiva entre los dos conjuntos de datos."
   ]
  },
  {
   "cell_type": "markdown",
   "id": "591c8b27",
   "metadata": {},
   "source": [
    "### Explicación: \n",
    "\n",
    "Calculamos la relación entre dos conjuntos de datos. Un valor positivo indica que las variables tienden a aumentar juntas, mientras que un valor negativo indica que una variable tiende a disminuir cuando la otra aumenta."
   ]
  },
  {
   "cell_type": "markdown",
   "id": "61c87e6f",
   "metadata": {},
   "source": [
    "## 7. Desviación típica (Desviación estándar)\n",
    "\n",
    "La desviación estándar es la raíz cuadrada de la varianza, proporcionando una medida de la dispersión de los datos en las mismas unidades que los datos originales."
   ]
  },
  {
   "cell_type": "code",
   "execution_count": 8,
   "id": "a6c3cb32",
   "metadata": {},
   "outputs": [
    {
     "name": "stdout",
     "output_type": "stream",
     "text": [
      "Desviación estándar: 22.73030282830976\n"
     ]
    }
   ],
   "source": [
    "desviacion_estandar = np.std(datos, ddof=1)\n",
    "print(f\"Desviación estándar: {desviacion_estandar}\")\n"
   ]
  },
  {
   "cell_type": "markdown",
   "id": "4ae29868",
   "metadata": {},
   "source": [
    "### Explicación: \n",
    "\n",
    "La desviación estándar nos da una medida de la dispersión de los datos en las mismas unidades que los datos originales."
   ]
  },
  {
   "cell_type": "markdown",
   "id": "53708535",
   "metadata": {},
   "source": [
    "## 8. Correlación\n",
    "\n",
    "La correlación mide la fuerza y la dirección de la relación lineal entre dos variables. Se expresa como un valor entre -1 y 1."
   ]
  },
  {
   "cell_type": "code",
   "execution_count": 9,
   "id": "12e0a17d",
   "metadata": {},
   "outputs": [
    {
     "name": "stdout",
     "output_type": "stream",
     "text": [
      "Correlación entre datos y datos_y: 0.9965436220322126\n"
     ]
    }
   ],
   "source": [
    "correlacion = np.corrcoef(datos, datos_y)[0, 1]\n",
    "print(f\"Correlación entre datos y datos_y: {correlacion}\")\n"
   ]
  },
  {
   "cell_type": "markdown",
   "id": "8ca4d0d7",
   "metadata": {},
   "source": [
    "La alta correlación (cerca de 1) indica una fuerte relación positiva entre los dos conjuntos de datos."
   ]
  },
  {
   "cell_type": "markdown",
   "id": "ae24b1b1",
   "metadata": {},
   "source": [
    "### Explicación: \n",
    "\n",
    "La correlación varía entre -1 y 1. Un valor cercano a 1 indica una fuerte relación positiva, mientras que un valor cercano a -1 indica una fuerte relación negativa. Un valor cercano a 0 indica poca o ninguna relación lineal.\n",
    "\n"
   ]
  },
  {
   "cell_type": "code",
   "execution_count": null,
   "id": "809a0b18",
   "metadata": {},
   "outputs": [],
   "source": []
  }
 ],
 "metadata": {
  "kernelspec": {
   "display_name": "Python 3 (ipykernel)",
   "language": "python",
   "name": "python3"
  },
  "language_info": {
   "codemirror_mode": {
    "name": "ipython",
    "version": 3
   },
   "file_extension": ".py",
   "mimetype": "text/x-python",
   "name": "python",
   "nbconvert_exporter": "python",
   "pygments_lexer": "ipython3",
   "version": "3.10.14"
  }
 },
 "nbformat": 4,
 "nbformat_minor": 5
}
