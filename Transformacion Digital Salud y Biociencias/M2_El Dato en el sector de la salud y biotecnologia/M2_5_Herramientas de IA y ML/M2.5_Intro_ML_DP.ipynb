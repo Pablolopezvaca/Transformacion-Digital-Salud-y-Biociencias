{
 "cells": [
  {
   "cell_type": "markdown",
   "id": "32908481",
   "metadata": {},
   "source": [
    "# Submódulo M2.5: Introducción al Machine Learning y Deep Learning"
   ]
  },
  {
   "cell_type": "markdown",
   "id": "5116c50c",
   "metadata": {},
   "source": [
    "Cuando hablamos sobre _algorítmos de aprendizaje en machine learning_ -en adelante ML- nos referimos a métodos o técnicas específicas que permiten a una máquina (computadora) aprender de los datos. \n",
    "\n",
    "¿Qué hacen estos algorítmos?\n",
    "\n",
    "1. Procesan los datos de entrada (input).\n",
    "2. Identifican patrones o relaciones entre esos datos.\n",
    "3. Realizan predicciones, clasificaciones o toman decisiones basadas en nuevos datos.\n",
    "\n",
    "Existen varios tipos de algoritmos de aprendizaje, y se pueden clasificar en diferentes categorías según el tipo de aprendizaje y la tarea que realizan. A continuación describo algunas __categorías principales de algorítmos de aprendizaje automático clásico__ con sus ejemplos:\n"
   ]
  },
  {
   "cell_type": "markdown",
   "id": "62210782",
   "metadata": {},
   "source": [
    "## 1. Aprendizaje supervisado"
   ]
  },
  {
   "cell_type": "markdown",
   "id": "39cb2397",
   "metadata": {},
   "source": [
    "En el aprendizaje supervisado, el algoritmo aprende a partir de un conjunto de datos etiquetados. El objetivo es aprender una función que mapee una entrada a una salida basada en ejemplos de entrada-salida.\n",
    "\n",
    "__Incluye:__\n",
    "\n",
    "- Regresión Lineal: Es un algoritmo de aprendizaje supervisado que modela la relación entre una variable dependiente (objetivo) y una o más variables independientes (predictoras) mediante una línea recta. Ejemplo: Predicción de valores continuos, como precios de casas o ingresos salariales.\n",
    "- Máquinas de Soporte Vectorial (SVM): Utilizado principalmente para tareas de clasificación. SVM encuentra el hiperplano que mejor separa las diferentes clases en el espacio de características, maximizando la distancia entre las clases más cercanas a este hiperplano (margen). Ejemplo: Clasificación de imágenes, detección de spam, reconocimiento de voz.\n",
    "- Redes Neuronales: Son un conjunto de algoritmos inspirados en la estructura del cerebro humano, diseñados para reconocer patrones. Están compuestas por capas de nodos (neuronas) conectados entre sí. Cada conexión tiene un peso que se ajusta durante el entrenamiento. Pueden ser usadas tanto para tareas de clasificación como de regresión. Ejemplo: Reconocimiento de imágenes, procesamiento del lenguaje natural, sistemas de recomendación.\n",
    "\n",
    "__Metáfora: Profesor y Estudiante__\n",
    "\n",
    "- Imagina que eres un estudiante y tienes un profesor que te enseña matemáticas. El profesor te da un conjunto de problemas de matemáticas (datos de entrada) junto con sus soluciones correctas (etiquetas). Aprendes a resolver problemas similares al ver cómo se resuelven estos ejemplos."
   ]
  },
  {
   "cell_type": "markdown",
   "id": "b9582016",
   "metadata": {},
   "source": [
    "### Casos de uso:\n",
    "\n",
    "1. Detección de Fraude en Transacciones Financieras\n",
    "2. Diagnóstico de Enfermedades en el Sector de la Salud\n",
    "3. Personalización de Recomendaciones en Plataformas de Streaming"
   ]
  },
  {
   "cell_type": "markdown",
   "id": "412b6c5b",
   "metadata": {},
   "source": [
    "### Ejemplo con Python:\n",
    "\n",
    "Creo un ejemplo utilizando un algoritmo de aprendizaje supervisado, como la _regresión lineal._ \n",
    "\n",
    "Utilizo el conjunto de datos de ejemplo de __scikit-learn__, el cual contiene información sobre la relación entre el tamaño de una casa (en pies cuadrados) y su precio. _La regresión lineal nos ayudará a predecir el precio de una casa basándonos en su tamaño._"
   ]
  },
  {
   "cell_type": "code",
   "execution_count": 1,
   "id": "05e8ba35",
   "metadata": {},
   "outputs": [
    {
     "name": "stdout",
     "output_type": "stream",
     "text": [
      "Requirement already satisfied: numpy in /Library/Frameworks/Python.framework/Versions/3.12/lib/python3.12/site-packages (2.0.0)\n",
      "Collecting pandas\n",
      "  Downloading pandas-2.2.2-cp312-cp312-macosx_10_9_x86_64.whl.metadata (19 kB)\n",
      "Requirement already satisfied: scikit-learn in /Library/Frameworks/Python.framework/Versions/3.12/lib/python3.12/site-packages (1.5.0)\n",
      "Collecting matplotlib\n",
      "  Downloading matplotlib-3.9.1-cp312-cp312-macosx_10_12_x86_64.whl.metadata (11 kB)\n",
      "Requirement already satisfied: python-dateutil>=2.8.2 in /Library/Frameworks/Python.framework/Versions/3.12/lib/python3.12/site-packages (from pandas) (2.9.0.post0)\n",
      "Collecting pytz>=2020.1 (from pandas)\n",
      "  Downloading pytz-2024.1-py2.py3-none-any.whl.metadata (22 kB)\n",
      "Collecting tzdata>=2022.7 (from pandas)\n",
      "  Downloading tzdata-2024.1-py2.py3-none-any.whl.metadata (1.4 kB)\n",
      "Requirement already satisfied: scipy>=1.6.0 in /Library/Frameworks/Python.framework/Versions/3.12/lib/python3.12/site-packages (from scikit-learn) (1.13.1)\n",
      "Requirement already satisfied: joblib>=1.2.0 in /Library/Frameworks/Python.framework/Versions/3.12/lib/python3.12/site-packages (from scikit-learn) (1.4.2)\n",
      "Requirement already satisfied: threadpoolctl>=3.1.0 in /Library/Frameworks/Python.framework/Versions/3.12/lib/python3.12/site-packages (from scikit-learn) (3.5.0)\n",
      "Collecting contourpy>=1.0.1 (from matplotlib)\n",
      "  Downloading contourpy-1.2.1-cp312-cp312-macosx_10_9_x86_64.whl.metadata (5.8 kB)\n",
      "Collecting cycler>=0.10 (from matplotlib)\n",
      "  Downloading cycler-0.12.1-py3-none-any.whl.metadata (3.8 kB)\n",
      "Collecting fonttools>=4.22.0 (from matplotlib)\n",
      "  Downloading fonttools-4.53.1-cp312-cp312-macosx_10_9_universal2.whl.metadata (162 kB)\n",
      "\u001b[2K     \u001b[90m━━━━━━━━━━━━━━━━━━━━━━━━━━━━━━━━━━━━━━━\u001b[0m \u001b[32m162.6/162.6 kB\u001b[0m \u001b[31m2.6 MB/s\u001b[0m eta \u001b[36m0:00:00\u001b[0ma \u001b[36m0:00:01\u001b[0m\n",
      "\u001b[?25hCollecting kiwisolver>=1.3.1 (from matplotlib)\n",
      "  Downloading kiwisolver-1.4.5-cp312-cp312-macosx_10_9_x86_64.whl.metadata (6.4 kB)\n",
      "Requirement already satisfied: packaging>=20.0 in /Library/Frameworks/Python.framework/Versions/3.12/lib/python3.12/site-packages (from matplotlib) (24.1)\n",
      "Collecting pillow>=8 (from matplotlib)\n",
      "  Downloading pillow-10.4.0-cp312-cp312-macosx_10_10_x86_64.whl.metadata (9.2 kB)\n",
      "Collecting pyparsing>=2.3.1 (from matplotlib)\n",
      "  Downloading pyparsing-3.1.2-py3-none-any.whl.metadata (5.1 kB)\n",
      "Requirement already satisfied: six>=1.5 in /Library/Frameworks/Python.framework/Versions/3.12/lib/python3.12/site-packages (from python-dateutil>=2.8.2->pandas) (1.16.0)\n",
      "Downloading pandas-2.2.2-cp312-cp312-macosx_10_9_x86_64.whl (12.5 MB)\n",
      "\u001b[2K   \u001b[90m━━━━━━━━━━━━━━━━━━━━━━━━━━━━━━━━━━━━━━━━\u001b[0m \u001b[32m12.5/12.5 MB\u001b[0m \u001b[31m5.0 MB/s\u001b[0m eta \u001b[36m0:00:00\u001b[0m00:01\u001b[0m00:01\u001b[0m\n",
      "\u001b[?25hDownloading matplotlib-3.9.1-cp312-cp312-macosx_10_12_x86_64.whl (7.9 MB)\n",
      "\u001b[2K   \u001b[90m━━━━━━━━━━━━━━━━━━━━━━━━━━━━━━━━━━━━━━━━\u001b[0m \u001b[32m7.9/7.9 MB\u001b[0m \u001b[31m8.8 MB/s\u001b[0m eta \u001b[36m0:00:00\u001b[0m:00:01\u001b[0m00:01\u001b[0m\n",
      "\u001b[?25hDownloading contourpy-1.2.1-cp312-cp312-macosx_10_9_x86_64.whl (263 kB)\n",
      "\u001b[2K   \u001b[90m━━━━━━━━━━━━━━━━━━━━━━━━━━━━━━━━━━━━━━━━\u001b[0m \u001b[32m263.3/263.3 kB\u001b[0m \u001b[31m4.0 MB/s\u001b[0m eta \u001b[36m0:00:00\u001b[0mta \u001b[36m0:00:01\u001b[0m\n",
      "\u001b[?25hDownloading cycler-0.12.1-py3-none-any.whl (8.3 kB)\n",
      "Downloading fonttools-4.53.1-cp312-cp312-macosx_10_9_universal2.whl (2.8 MB)\n",
      "\u001b[2K   \u001b[90m━━━━━━━━━━━━━━━━━━━━━━━━━━━━━━━━━━━━━━━━\u001b[0m \u001b[32m2.8/2.8 MB\u001b[0m \u001b[31m8.4 MB/s\u001b[0m eta \u001b[36m0:00:00\u001b[0m:00:01\u001b[0m00:01\u001b[0m\n",
      "\u001b[?25hDownloading kiwisolver-1.4.5-cp312-cp312-macosx_10_9_x86_64.whl (67 kB)\n",
      "\u001b[2K   \u001b[90m━━━━━━━━━━━━━━━━━━━━━━━━━━━━━━━━━━━━━━━━\u001b[0m \u001b[32m67.3/67.3 kB\u001b[0m \u001b[31m1.3 MB/s\u001b[0m eta \u001b[36m0:00:00\u001b[0mta \u001b[36m0:00:01\u001b[0m\n",
      "\u001b[?25hDownloading pillow-10.4.0-cp312-cp312-macosx_10_10_x86_64.whl (3.5 MB)\n",
      "\u001b[2K   \u001b[90m━━━━━━━━━━━━━━━━━━━━━━━━━━━━━━━━━━━━━━━━\u001b[0m \u001b[32m3.5/3.5 MB\u001b[0m \u001b[31m7.4 MB/s\u001b[0m eta \u001b[36m0:00:00\u001b[0m00:01\u001b[0m00:01\u001b[0mm\n",
      "\u001b[?25hDownloading pyparsing-3.1.2-py3-none-any.whl (103 kB)\n",
      "\u001b[2K   \u001b[90m━━━━━━━━━━━━━━━━━━━━━━━━━━━━━━━━━━━━━━━━\u001b[0m \u001b[32m103.2/103.2 kB\u001b[0m \u001b[31m2.0 MB/s\u001b[0m eta \u001b[36m0:00:00\u001b[0m:00:01\u001b[0m\n",
      "\u001b[?25hDownloading pytz-2024.1-py2.py3-none-any.whl (505 kB)\n",
      "\u001b[2K   \u001b[90m━━━━━━━━━━━━━━━━━━━━━━━━━━━━━━━━━━━━━━━━\u001b[0m \u001b[32m505.5/505.5 kB\u001b[0m \u001b[31m1.8 MB/s\u001b[0m eta \u001b[36m0:00:00\u001b[0m00:01\u001b[0m00:01\u001b[0mm\n",
      "\u001b[?25hDownloading tzdata-2024.1-py2.py3-none-any.whl (345 kB)\n",
      "\u001b[2K   \u001b[90m━━━━━━━━━━━━━━━━━━━━━━━━━━━━━━━━━━━━━━━━\u001b[0m \u001b[32m345.4/345.4 kB\u001b[0m \u001b[31m3.0 MB/s\u001b[0m eta \u001b[36m0:00:00\u001b[0m:00:01\u001b[0m\n",
      "\u001b[?25hInstalling collected packages: pytz, tzdata, pyparsing, pillow, kiwisolver, fonttools, cycler, contourpy, pandas, matplotlib\n",
      "Successfully installed contourpy-1.2.1 cycler-0.12.1 fonttools-4.53.1 kiwisolver-1.4.5 matplotlib-3.9.1 pandas-2.2.2 pillow-10.4.0 pyparsing-3.1.2 pytz-2024.1 tzdata-2024.1\n"
     ]
    }
   ],
   "source": [
    "!pip install numpy pandas scikit-learn matplotlib\n"
   ]
  },
  {
   "cell_type": "code",
   "execution_count": 5,
   "id": "8a67d305",
   "metadata": {},
   "outputs": [
    {
     "data": {
      "image/png": "[encoded data removed]",
      "text/plain": [
       "<Figure size 640x480 with 1 Axes>"
      ]
     },
     "metadata": {},
     "output_type": "display_data"
    },
    {
     "name": "stdout",
     "output_type": "stream",
     "text": [
      "Pendiente (coeficiente): 44.24418215597419\n",
      "Intersección: 0.09922221422587718\n"
     ]
    }
   ],
   "source": [
    "# Importamos las bibliotecas necesarias\n",
    "import numpy as np\n",
    "import matplotlib.pyplot as plt\n",
    "from sklearn.linear_model import LinearRegression\n",
    "from sklearn.model_selection import train_test_split\n",
    "from sklearn.datasets import make_regression\n",
    "\n",
    "# Generamos un conjunto de datos de ejemplo\n",
    "X, y = make_regression(n_samples=100, n_features=1, noise=10, random_state=42)\n",
    "\n",
    "# Dividimos el conjunto de datos en entrenamiento y prueba\n",
    "X_train, X_test, y_train, y_test = train_test_split(X, y, test_size=0.2, random_state=42)\n",
    "\n",
    "# Creamos el modelo de regresión lineal\n",
    "modelo = LinearRegression()\n",
    "\n",
    "# Entrenamos el modelo con los datos de entrenamiento\n",
    "modelo.fit(X_train, y_train)\n",
    "\n",
    "# Realizamos predicciones sobre los datos de prueba\n",
    "y_pred = modelo.predict(X_test)\n",
    "\n",
    "# Visualizamos los resultados\n",
    "plt.scatter(X_test, y_test, color='black', label='Datos reales')\n",
    "plt.plot(X_test, y_pred, color='blue', linewidth=3, label='Línea de regresión')\n",
    "plt.xlabel('Tamaño de la casa (pies cuadrados)')\n",
    "plt.ylabel('Precio de la casa')\n",
    "plt.legend()\n",
    "plt.show()\n",
    "\n",
    "# Mostramos la pendiente y la intersección de la línea de regresión\n",
    "print(f\"Pendiente (coeficiente): {modelo.coef_[0]}\")\n",
    "print(f\"Intersección: {modelo.intercept_}\")\n"
   ]
  },
  {
   "cell_type": "markdown",
   "id": "5fb1fc9c",
   "metadata": {},
   "source": [
    "__Explicación del Código:__\n",
    "\n",
    "   __1. Importación de Bibliotecas:__ Importamos numpy para cálculos numéricos, matplotlib para visualización y scikit-learn para el modelo de regresión lineal.\n",
    "\n",
    "   __2. Generación de Datos de Ejemplo:__ Utilizamos make_regression para generar un conjunto de datos con una sola característica (n_features=1) y algo de ruido (noise=10).\n",
    "\n",
    "   __3. División de Datos:__ Dividimos los datos en conjuntos de entrenamiento y prueba usando train_test_split.\n",
    "\n",
    "   __4. Creación y Entrenamiento del Modelo:__ Creamos un objeto LinearRegression y lo entrenamos con los datos de entrenamiento.\n",
    "\n",
    "   __5. Predicción:__ Usamos el modelo entrenado para hacer predicciones sobre los datos de prueba.\n",
    "\n",
    "   __6. Visualización:__ Dibujamos un gráfico de dispersión de los datos reales y la línea de regresión.\n",
    "\n",
    "   __7. Resultados:__ Imprimimos la pendiente y la intersección de la línea de regresión."
   ]
  },
  {
   "cell_type": "markdown",
   "id": "9e981cec",
   "metadata": {},
   "source": [
    "## 2. Aprendizaje no supervisado"
   ]
  },
  {
   "cell_type": "markdown",
   "id": "bc7de2a3-bfb3-4cef-9b7c-e5897fe1db98",
   "metadata": {},
   "source": [
    "Es un tipo de aprendizaje automático donde el modelo se entrena utilizando datos que no tienen etiquetas. El objetivo es encontrar patrones, estructuras o relaciones en los datos sin una guía previa.\n",
    "\n",
    "__Incluye:__\n",
    "\n",
    "- Clustering (Agrupamiento): Agrupa datos similares juntos. Ejemplo: K-means.\n",
    "- Reducción de Dimensionalidad: Reduce el número de variables en los datos. Ejemplo: PCA (Análisis de Componentes Principales).\n",
    "- Asociación: Encuentra reglas que describen relaciones en los datos. Ejemplo: Apriori.\n",
    "\n",
    "__Metáfora:__\n",
    "\n",
    "- Fiesta sin Identificadores: Imagina que organizas una fiesta y no conoces a nadie. Sin conocer sus nombres o detalles, agrupas a las personas según cómo se comportan o de qué hablan. Los que hablan de deportes se agrupan juntos, los que hablan de ciencia se agrupan en otro lugar. Así es el aprendizaje no supervisado: descubres grupos sin saber quién es quién."
   ]
  },
  {
   "cell_type": "markdown",
   "id": "50cbf57f-7593-454b-bd9c-a2d7252f1696",
   "metadata": {},
   "source": [
    "### Casos de uso:\n",
    "\n",
    "1. Segmentación de Clientes: Uso de clustering para agrupar clientes según su comportamiento de compra y características demográficas.\n",
    "2. Detección de Anomalías en Finanzas: Uso de algoritmos de clustering para identificar transacciones financieras anómalas que podrían indicar fraude.\n",
    "3. Identificación de Subtipos de Cáncer (Sector de Salud y Biociencias): Uso de técnicas de clustering para agrupar pacientes con cáncer en subtipos basados en datos genómicos y moleculares, mejorando la personalización de tratamientos."
   ]
  },
  {
   "cell_type": "markdown",
   "id": "27857622-2c35-4339-8ac5-18e7b15ceeb9",
   "metadata": {},
   "source": [
    "### Ejemplo con Python:\n",
    "\n",
    "Este ejemplo simple de K-means muestra cómo se pueden agrupar datos sin etiquetas en clusters significativos, ayudándonos a descubrir estructuras ocultas en los datos."
   ]
  },
  {
   "cell_type": "code",
   "execution_count": 3,
   "id": "3b17d6b6-a759-4d68-b45f-ea10740b21d7",
   "metadata": {},
   "outputs": [
    {
     "data": {
      "image/png": "[encoded data removed]",
      "text/plain": [
       "<Figure size 640x480 with 1 Axes>"
      ]
     },
     "metadata": {},
     "output_type": "display_data"
    }
   ],
   "source": [
    "import numpy as np\n",
    "from sklearn.cluster import KMeans\n",
    "import matplotlib.pyplot as plt\n",
    "\n",
    "# Generar datos de ejemplo\n",
    "X = np.array([[1, 2], [1, 4], [1, 0],\n",
    "              [10, 2], [10, 4], [10, 0]])\n",
    "\n",
    "# Crear el modelo K-means\n",
    "kmeans = KMeans(n_clusters=2, random_state=0).fit(X)\n",
    "\n",
    "# Predecir los grupos\n",
    "y_kmeans = kmeans.predict(X)\n",
    "\n",
    "# Graficar los puntos y los centros de los clusters\n",
    "plt.scatter(X[:, 0], X[:, 1], c=y_kmeans, s=50, cmap='viridis')\n",
    "centers = kmeans.cluster_centers_\n",
    "plt.scatter(centers[:, 0], centers[:, 1], c='red', s=200, alpha=0.75, marker='X')\n",
    "plt.show()\n"
   ]
  },
  {
   "cell_type": "markdown",
   "id": "d6f52f42-b652-46b2-8f3c-322e1ca263c7",
   "metadata": {},
   "source": [
    "__Explicación del Código:__\n",
    "\n",
    "   __1. Generación de Datos:__ Creamos un conjunto de datos simple con 6 puntos en un espacio bidimensional.\n",
    "\n",
    "   __2. Creación del Modelo K-means:__ Utilizamos el algoritmo K-means para agrupar los datos en 2 clusters. n_clusters=2 indica que queremos encontrar 2 grupos. random_state=0 asegura que los resultados sean reproducibles.\n",
    "\n",
    "   __3. Predicción de los Grupos:__ Asignamos cada punto de datos a uno de los clusters.\n",
    "\n",
    "   __4. Visualización de los Resultados:__ Graficamos los puntos de datos en un diagrama de dispersión, coloreando cada punto según su grupo asignado. Graficamos los centros de los clusters con un marcador rojo X."
   ]
  },
  {
   "cell_type": "markdown",
   "id": "ed7d077a-5dae-4931-9eba-133ecf92d378",
   "metadata": {},
   "source": [
    "Una vez descritas algunas categorías principales de algorítmos de aprendizaje automático clásico, a continuación describiré algunas __categorías principales de algoritmos de aprendizaje automático moderno.__"
   ]
  },
  {
   "cell_type": "markdown",
   "id": "013b0942-5aad-4d6f-a774-18a0f82485c1",
   "metadata": {},
   "source": [
    "## 1. Aprendizaje por refuerzo"
   ]
  },
  {
   "cell_type": "markdown",
   "id": "c5132446-cc4e-4c79-88ad-d52f2cc8d5a3",
   "metadata": {},
   "source": [
    "Es una técnica de aprendizaje automático donde un agente aprende a tomar decisiones mediante la interacción con un entorno, recibiendo recompensas o castigos según sus acciones. El objetivo del agente es maximizar la recompensa acumulada a lo largo del tiempo.\n",
    "\n",
    "__Métodos de Aprendizaje por Refuerzo:__\n",
    "\n",
    "- Q-Learning: Un algoritmo de aprendizaje por refuerzo que utiliza una tabla Q para aprender el valor de las acciones en cada estado.\n",
    "- SARSA (State-Action-Reward-State-Action): Similar a Q-Learning, pero actualiza la tabla Q utilizando la acción seleccionada en el siguiente estado.\n",
    "- Deep Q-Learning (DQN): Una extensión de Q-Learning que utiliza redes neuronales para aproximar la tabla Q.\n",
    "- Aprendizaje Basado en Políticas (Policy Gradient): Algoritmos que directamente optimizan la política sin necesidad de una tabla Q.\n",
    "- Métodos Actor-Critic: Combinan el enfoque de política con el enfoque basado en valor.\n",
    "\n",
    "__Metáfora:__\n",
    "\n",
    "- Niño Aprendiendo a Andar en Bicicleta: Imagina un niño que aprende a andar en bicicleta. Al principio, cae muchas veces (recibe castigos), pero cada vez que logra avanzar sin caerse (recibe recompensas), ajusta su equilibrio y técnica hasta que finalmente aprende a montar bien."
   ]
  },
  {
   "cell_type": "markdown",
   "id": "6ce8d4e8-c283-428f-b864-7098cb0f0cd8",
   "metadata": {},
   "source": [
    "### Casos de uso:\n",
    "\n",
    "1. Control de Robots: En robótica, se utiliza el aprendizaje por refuerzo para entrenar robots a realizar tareas complejas como caminar, manipular objetos y navegar en entornos no estructurados.\n",
    "2. Trading Automático: En finanzas, se utiliza para desarrollar agentes de trading que aprenden a tomar decisiones de compra y venta de acciones basándose en datos del mercado, buscando maximizar las ganancias.\n",
    "3. Optimización de Tratamientos Médicos (Sector de Salud y Biociencias): En el sector de la salud, el aprendizaje por refuerzo puede usarse para personalizar tratamientos médicos, optimizando la dosis y combinación de medicamentos para maximizar la efectividad y minimizar efectos secundarios para cada paciente individual."
   ]
  },
  {
   "cell_type": "markdown",
   "id": "9e47b6d7-0ae2-47fa-bd00-b8cf3fa2e2aa",
   "metadata": {},
   "source": [
    "### Ejemplo con Python:\n",
    "\n",
    "Este ejemplo simula un agente que aprende si debe comprar o no una bebida utilizando el algoritmo Q-learning. La simulación se realiza durante 10 episodios."
   ]
  },
  {
   "cell_type": "code",
   "execution_count": 6,
   "id": "91f453b9-e534-41d4-8119-e8a953e65c8e",
   "metadata": {},
   "outputs": [
    {
     "name": "stdout",
     "output_type": "stream",
     "text": [
      "Q-Table entrenada:\n",
      " [[0. 0.]\n",
      " [0. 0.]]\n"
     ]
    }
   ],
   "source": [
    "import numpy as np\n",
    "\n",
    "# Parámetros\n",
    "num_estados = 2  # Estados: {0: Sin bebida, 1: Con bebida}\n",
    "num_acciones = 2  # Acciones: {0: No comprar, 1: Comprar}\n",
    "q_table = np.zeros((num_estados, num_acciones))\n",
    "learning_rate = 0.1\n",
    "discount_factor = 0.9\n",
    "num_episodios = 10\n",
    "\n",
    "# Simulación\n",
    "for episodio in range(num_episodios):\n",
    "    estado = 0  # Comienza sin bebida\n",
    "    done = False\n",
    "\n",
    "    while not done:\n",
    "        accion = np.argmax(q_table[estado])  # Selecciona la mejor acción\n",
    "        if accion == 1:  # Comprar\n",
    "            recompensa = 10  # Recibe bebida\n",
    "            nuevo_estado = 1\n",
    "            done = True\n",
    "        else:  # No comprar\n",
    "            recompensa = 0\n",
    "            nuevo_estado = 0\n",
    "            done = True\n",
    "\n",
    "        # Actualización Q-Table\n",
    "        q_table[estado, accion] = q_table[estado, accion] + learning_rate * (\n",
    "            recompensa + discount_factor * np.max(q_table[nuevo_estado]) - q_table[estado, accion]\n",
    "        )\n",
    "        estado = nuevo_estado\n",
    "\n",
    "print(\"Q-Table entrenada:\\n\", q_table)\n"
   ]
  },
  {
   "cell_type": "markdown",
   "id": "33a73f35-85d6-4456-9f84-76f43da88d0d",
   "metadata": {},
   "source": [
    "__Proceso:__\n",
    "\n",
    "_Inicialización:_\n",
    "\n",
    "- La Q-Table se inicializa con ceros.\n",
    "- Se establecen los parámetros: tasa de aprendizaje (learning_rate), factor de descuento (discount_factor) y número de episodios (num_episodios).\n",
    "\n",
    "_Entrenamiento:_\n",
    "\n",
    "- Para cada episodio, el agente comienza sin bebida (estado = 0).\n",
    "- El agente selecciona la acción con el mayor valor Q en el estado actual.\n",
    "- Si compra la bebida (acción = 1), recibe una recompensa de 10 y cambia al estado 1.\n",
    "- Si no compra la bebida (acción = 0), no recibe recompensa y permanece en el estado 0.\n",
    "- La Q-Table se actualiza usando la fórmula de Q-learning para reflejar el valor de la acción tomada.\n",
    "\n",
    "_Resultado:_\n",
    "\n",
    "- Al final del entrenamiento, se imprime la Q-Table entrenada, que muestra el valor de cada acción en cada estado.\n"
   ]
  },
  {
   "cell_type": "markdown",
   "id": "64bfdb65-8da8-4f24-a914-ec3ea7b949e6",
   "metadata": {},
   "source": [
    "__Explicación del Código:__\n",
    "\n",
    "1. Inicializa la Q-Table con ceros.\n",
    "2. Configura los parámetros de aprendizaje.\n",
    "3. Simula episodios donde el agente decide comprar o no una bebida.\n",
    "4. Actualiza la Q-Table basado en las recompensas recibidas.\n",
    "5. Imprime la Q-Table entrenada, mostrando el valor de cada acción en cada estado"
   ]
  },
  {
   "cell_type": "markdown",
   "id": "371db785-c400-4908-9109-20854fdfc6f7",
   "metadata": {},
   "source": [
    "## 2. Métodos de Conjunto (Ensemble Methods)"
   ]
  },
  {
   "cell_type": "markdown",
   "id": "08e150c8-bb03-4178-ba41-05cba39c405e",
   "metadata": {},
   "source": [
    "Son técnicas de aprendizaje automático que combinan las predicciones de múltiples modelos para mejorar el rendimiento y la precisión de la predicción en comparación con los modelos individuales.\n",
    "\n",
    "__Clasificación:__\n",
    "\n",
    "- Bagging (Bootstrap Aggregating): Combina múltiples modelos entrenados en diferentes subconjuntos de datos generados mediante muestreo con reemplazo. Ejemplo: Random Forest.\n",
    "- Boosting: Combina múltiples modelos secuencialmente, donde cada modelo corrige los errores de su predecesor. Ejemplo: AdaBoost, Gradient Boosting.\n",
    "- Stacking: Combina las predicciones de varios modelos (llamados modelos base) mediante un modelo de nivel superior (meta-modelo) que aprende a optimizar las predicciones combinadas.\n",
    "\n",
    "__Metáfora:__\n",
    "\n",
    "- Equipo de Expertos: Imagina que necesitas resolver un problema complicado. En lugar de pedirle a una sola persona que lo resuelva, consultas a varios expertos en el tema. Cada experto aporta su perspectiva, y al combinar sus respuestas, obtienes una solución más precisa y completa."
   ]
  },
  {
   "cell_type": "markdown",
   "id": "3f54a5ba-2e41-46fb-87ba-e279332a43ed",
   "metadata": {},
   "source": [
    "### Casos de uso:\n",
    "\n",
    "1. Detección de Fraude: En finanzas, los métodos de ensamble se utilizan para detectar transacciones fraudulentas combinando las predicciones de varios modelos de detección de anomalías.\n",
    "2. Clasificación de Imágenes: En visión por computadora, los métodos de ensamble se utilizan para mejorar la precisión de la clasificación de imágenes combinando múltiples redes neuronales.\n",
    "3. Diagnóstico Médico (Sector de Salud y Biociencias): En el sector de la salud, los métodos de ensamble se aplican para diagnosticar enfermedades al combinar las predicciones de varios modelos de aprendizaje automático, aumentando la precisión y reduciendo los errores diagnósticos."
   ]
  },
  {
   "cell_type": "markdown",
   "id": "f03a1559-0ef4-4a5c-8305-611343d7edbf",
   "metadata": {},
   "source": [
    "### Ejemplo con Python:\n",
    "\n",
    "Este ejemplo ilustra cómo utilizar el método de conjunto Bagging (Bootstrap Aggregating) con un clasificador de árboles de decisión para mejorar la precisión de la clasificación en el conjunto de datos de iris (es un conjunto de datos clásico utilizado en aprendizaje automático y estadísticas)."
   ]
  },
  {
   "cell_type": "code",
   "execution_count": 8,
   "id": "0ed49e22-e9bd-4402-a455-5f4727aab8bd",
   "metadata": {},
   "outputs": [
    {
     "name": "stdout",
     "output_type": "stream",
     "text": [
      "Precisión del clasificador de conjunto: 1.00\n"
     ]
    }
   ],
   "source": [
    "import numpy as np\n",
    "from sklearn.datasets import load_iris\n",
    "from sklearn.model_selection import train_test_split\n",
    "from sklearn.tree import DecisionTreeClassifier\n",
    "from sklearn.ensemble import BaggingClassifier\n",
    "from sklearn.metrics import accuracy_score\n",
    "\n",
    "# Cargar datos\n",
    "iris = load_iris()\n",
    "X, y = iris.data, iris.target\n",
    "\n",
    "# Dividir datos en entrenamiento y prueba\n",
    "X_train, X_test, y_train, y_test = train_test_split(X, y, test_size=0.2, random_state=42)\n",
    "\n",
    "# Crear un clasificador base (árbol de decisión)\n",
    "base_clf = DecisionTreeClassifier()\n",
    "\n",
    "# Crear un clasificador de conjunto usando Bagging\n",
    "bagging_clf = BaggingClassifier(estimator=base_clf, n_estimators=10, random_state=42)\n",
    "\n",
    "# Entrenar el clasificador de conjunto\n",
    "bagging_clf.fit(X_train, y_train)\n",
    "\n",
    "# Realizar predicciones\n",
    "y_pred = bagging_clf.predict(X_test)\n",
    "\n",
    "# Calcular la precisión\n",
    "accuracy = accuracy_score(y_test, y_pred)\n",
    "print(f\"Precisión del clasificador de conjunto: {accuracy:.2f}\")\n",
    "\n",
    "\n"
   ]
  },
  {
   "cell_type": "markdown",
   "id": "7fac450f-46d1-4324-a04c-e34ba68706d5",
   "metadata": {},
   "source": [
    "Este ejemplo utiliza el método de conjunto Bagging para entrenar múltiples árboles de decisión en diferentes subconjuntos de datos y combinar sus predicciones. El resultado es un modelo más robusto y preciso en comparación con un solo árbol de decisión. Bagging ayuda a reducir la variabilidad y el sobreajuste, mejorando la capacidad de generalización del modelo."
   ]
  },
  {
   "cell_type": "markdown",
   "id": "9a5992a9-a976-4dfc-8936-d0fd55ffd627",
   "metadata": {},
   "source": [
    "__Explicación del Código:__\n",
    "\n",
    "1. Cargar Datos: Se cargan los datos de la iris del conjunto de datos de scikit-learn.\n",
    "2. Dividir Datos: Los datos se dividen en conjuntos de entrenamiento y prueba.\n",
    "3. Clasificador Base: Se crea un clasificador base, en este caso, un árbol de decisión.\n",
    "4. Clasificador de Conjunto: Se crea un clasificador de conjunto utilizando BaggingClassifier, que combina múltiples instancias del clasificador base (10 árboles de decisión).\n",
    "5. Entrenar y Predecir: Se entrena el clasificador de conjunto con los datos de entrenamiento y se realizan predicciones sobre los datos de prueba.\n",
    "6. Calcular Precisión: Se calcula y se imprime la precisión del clasificador de conjunto en los datos de prueba."
   ]
  },
  {
   "cell_type": "markdown",
   "id": "e6bc810c-369d-483d-ac9e-ffa38ea1830b",
   "metadata": {},
   "source": [
    "## Redes Neuronales y Aprendizaje Profundo"
   ]
  },
  {
   "cell_type": "markdown",
   "id": "3910cc7e-c85e-44f2-9509-812bbbe0dbea",
   "metadata": {},
   "source": [
    "Las redes neuronales y el aprendizaje profundo son modelos de aprendizaje automático inspirados en el cerebro humano, que utilizan capas de neuronas artificiales para aprender patrones complejos a partir de datos.\n",
    "\n",
    "__Clasificación:__\n",
    "\n",
    "- Redes Neuronales Artificiales (ANN): Modelos básicos de redes neuronales con una o varias capas ocultas entre la entrada y la salida. Ejemplo: Perceptrón multicapa.\n",
    "- Redes Neuronales Convolucionales (CNN): Especializadas en procesamiento de imágenes, utilizan capas convolucionales para detectar patrones espaciales. Ejemplo: Aplicaciones en visión por computadora.\n",
    "- Redes Neuronales Recurrentes (RNN): Adecuadas para datos secuenciales, como texto o series temporales, donde las conexiones retroalimentadas permiten aprender dependencias temporales. Ejemplo: Procesamiento de lenguaje natural.\n",
    "\n",
    "__Metáfora:__\n",
    "\n",
    "- Cascada de Dominós: Piensa en una serie de dominós colocados en una secuencia. Cada dominó representa una neurona, y al derribar el primero, se activa una cadena de eventos que finalmente resuelve un problema complejo cuando cae el último dominó."
   ]
  },
  {
   "cell_type": "markdown",
   "id": "c51deb76-c4a4-4e96-98c4-3e1781c62834",
   "metadata": {},
   "source": [
    "### Casos de Uso\n",
    "\n",
    "1. Diagnóstico Médico (Sector de Salud): Las redes neuronales se utilizan para diagnosticar enfermedades a partir de imágenes médicas, como radiografías o resonancias magnéticas.\n",
    "2. Descubrimiento de Fármacos (Biociencias): En la industria farmacéutica, el aprendizaje profundo se aplica para identificar compuestos químicos prometedores y predecir su actividad biológica.\n",
    "3. Análisis Genómico (Biociencias): En genómica, las redes neuronales se utilizan para analizar secuencias de ADN y RNA, identificando patrones genéticos asociados con enfermedades y características biológicas.\n",
    "4. Procesamiento de Lenguaje Natural (PNL): En aplicaciones de PNL, las redes neuronales son esenciales para tareas como la traducción automática, la generación de texto y el análisis de sentimientos en redes sociales. Por ejemplo, pueden analizar grandes volúmenes de texto para extraer información relevante o para responder preguntas en sistemas de asistencia virtual."
   ]
  },
  {
   "cell_type": "markdown",
   "id": "4e935af8-7c91-4fcd-84d9-b1819b0b3b6c",
   "metadata": {},
   "source": [
    "### Ejemplo con Python:\n",
    "\n",
    "Se utiliza el conjunto de datos de iris para clasificar diferentes tipos de flores en función de sus características. Primero, se cargan los datos y se dividen en conjuntos de entrenamiento y prueba. Luego, se normalizan las características para que tengan la misma escala. Se crea un modelo de red neuronal utilizando MLPClassifier con una capa oculta de 10 neuronas y se entrena con los datos de entrenamiento. Posteriormente, se realizan predicciones sobre los datos de prueba y se calcula la precisión del modelo, que indica qué tan bien el modelo puede clasificar las flores basado en las características proporcionadas. Este ejemplo muestra cómo las redes neuronales pueden ser implementadas en Python para resolver problemas de clasificación utilizando aprendizaje supervisado."
   ]
  },
  {
   "cell_type": "code",
   "execution_count": 9,
   "id": "b63e50e1-247a-408d-93a9-74f4a4711760",
   "metadata": {},
   "outputs": [
    {
     "name": "stdout",
     "output_type": "stream",
     "text": [
      "Precisión del modelo de red neuronal: 1.00\n"
     ]
    }
   ],
   "source": [
    "import numpy as np\n",
    "from sklearn.datasets import load_iris\n",
    "from sklearn.model_selection import train_test_split\n",
    "from sklearn.preprocessing import StandardScaler\n",
    "from sklearn.neural_network import MLPClassifier\n",
    "from sklearn.metrics import accuracy_score\n",
    "\n",
    "# Cargar datos\n",
    "iris = load_iris()\n",
    "X, y = iris.data, iris.target\n",
    "\n",
    "# Dividir datos en entrenamiento y prueba\n",
    "X_train, X_test, y_train, y_test = train_test_split(X, y, test_size=0.2, random_state=42)\n",
    "\n",
    "# Normalizar datos\n",
    "scaler = StandardScaler()\n",
    "X_train = scaler.fit_transform(X_train)\n",
    "X_test = scaler.transform(X_test)\n",
    "\n",
    "# Crear modelo de red neuronal\n",
    "model = MLPClassifier(hidden_layer_sizes=(10,), max_iter=1000, random_state=42)\n",
    "\n",
    "# Entrenar el modelo\n",
    "model.fit(X_train, y_train)\n",
    "\n",
    "# Realizar predicciones\n",
    "y_pred = model.predict(X_test)\n",
    "\n",
    "# Calcular la precisión\n",
    "accuracy = accuracy_score(y_test, y_pred)\n",
    "print(f\"Precisión del modelo de red neuronal: {accuracy:.2f}\")\n"
   ]
  },
  {
   "cell_type": "markdown",
   "id": "d8a3f399-8634-43b9-8c71-1d024f392720",
   "metadata": {},
   "source": [
    "__Explicación del Código:__\n",
    "\n",
    "1. Cargar Datos: Se cargan los datos del conjunto de datos de iris.\n",
    "2. Dividir Datos: Los datos se dividen en conjuntos de entrenamiento y prueba.\n",
    "3. Normalizar Datos: Se estandarizan las características para asegurar que cada característica contribuya de manera uniforme al modelo.\n",
    "4. Crear y Entrenar Modelo: Se crea un modelo de red neuronal utilizando MLPClassifier con una capa oculta de 10 neuronas. El modelo se entrena con los datos de entrenamiento.\n",
    "5. Realizar Predicciones y Calcular Precisión: Se realizan predicciones sobre los datos de prueba y se calcula la precisión del modelo comparando las predicciones con las etiquetas reales."
   ]
  },
  {
   "cell_type": "code",
   "execution_count": null,
   "id": "6c6250eb-c250-4c45-9ff7-7a87ec920650",
   "metadata": {},
   "outputs": [],
   "source": []
  }
 ],
 "metadata": {
  "kernelspec": {
   "display_name": "Python 3 (ipykernel)",
   "language": "python",
   "name": "python3"
  },
  "language_info": {
   "codemirror_mode": {
    "name": "ipython",
    "version": 3
   },
   "file_extension": ".py",
   "mimetype": "text/x-python",
   "name": "python",
   "nbconvert_exporter": "python",
   "pygments_lexer": "ipython3",
   "version": "3.12.4"
  }
 },
 "nbformat": 4,
 "nbformat_minor": 5
}
